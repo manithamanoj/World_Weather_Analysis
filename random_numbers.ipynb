{
 "cells": [
  {
   "cell_type": "code",
   "execution_count": 1,
   "id": "3c7d4bc0",
   "metadata": {},
   "outputs": [],
   "source": [
    "# Import the random module.\n",
    "import random\n"
   ]
  },
  {
   "cell_type": "code",
   "execution_count": 5,
   "id": "0ea0d8f8",
   "metadata": {},
   "outputs": [
    {
     "data": {
      "text/plain": [
       "-57"
      ]
     },
     "execution_count": 5,
     "metadata": {},
     "output_type": "execute_result"
    }
   ],
   "source": [
    "random.randint(-90,90)"
   ]
  },
  {
   "cell_type": "code",
   "execution_count": 11,
   "id": "91c8df0e",
   "metadata": {},
   "outputs": [
    {
     "data": {
      "text/plain": [
       "-25.23139251277379"
      ]
     },
     "execution_count": 11,
     "metadata": {},
     "output_type": "execute_result"
    }
   ],
   "source": [
    "random_number=random.randint(-90,90)+random.random()\n",
    "random_number"
   ]
  },
  {
   "cell_type": "code",
   "execution_count": 16,
   "id": "bdc30b0c",
   "metadata": {},
   "outputs": [
    {
     "data": {
      "text/plain": [
       "[79.22821954637756,\n",
       " -43.616953839391385,\n",
       " -2.481060373607311,\n",
       " 33.00425499195363,\n",
       " -70.23028833276426,\n",
       " -81.89752520450067,\n",
       " 59.000376055918416,\n",
       " -33.41842612500581,\n",
       " -53.761087818499846,\n",
       " -2.47130165263058]"
      ]
     },
     "execution_count": 16,
     "metadata": {},
     "output_type": "execute_result"
    }
   ],
   "source": [
    "x=1\n",
    "latitudes=[]\n",
    "while x<11:\n",
    "    random_lat=random.randint(-90,89)+random.random()\n",
    "    latitudes.append(random_lat)\n",
    "    x+=1\n",
    "latitudes"
   ]
  },
  {
   "cell_type": "code",
   "execution_count": 22,
   "id": "61ef4834",
   "metadata": {},
   "outputs": [
    {
     "data": {
      "text/plain": [
       "-89"
      ]
     },
     "execution_count": 22,
     "metadata": {},
     "output_type": "execute_result"
    }
   ],
   "source": [
    "random.randrange(-90,89,step=1)"
   ]
  },
  {
   "cell_type": "code",
   "execution_count": 21,
   "id": "1549ace6",
   "metadata": {},
   "outputs": [
    {
     "data": {
      "text/plain": [
       "63"
      ]
     },
     "execution_count": 21,
     "metadata": {},
     "output_type": "execute_result"
    }
   ],
   "source": [
    "random.randrange(-90,89,step=3)"
   ]
  },
  {
   "cell_type": "code",
   "execution_count": 23,
   "id": "8be06e27",
   "metadata": {},
   "outputs": [
    {
     "data": {
      "text/plain": [
       "-20.14769702654624"
      ]
     },
     "execution_count": 23,
     "metadata": {},
     "output_type": "execute_result"
    }
   ],
   "source": [
    "random.uniform(-90, 90)"
   ]
  },
  {
   "cell_type": "code",
   "execution_count": 24,
   "id": "6a1dba5c",
   "metadata": {},
   "outputs": [],
   "source": [
    "# Import the NumPy module.\n",
    "import numpy as np\n"
   ]
  },
  {
   "cell_type": "code",
   "execution_count": 25,
   "id": "4c6b62d7",
   "metadata": {},
   "outputs": [
    {
     "data": {
      "text/plain": [
       "array([-24.83503228, -89.9453714 ,  86.79908056,   9.51433881,\n",
       "       -61.59008401,  71.83255572,  51.67600222,  25.80188297,\n",
       "        37.66104319, -87.35388451, -72.55890206, -52.50071168,\n",
       "       -41.13598763,  28.96371335,  29.56390522,  26.27654982,\n",
       "       -22.22710018, -42.12414635,  21.12694938, -39.32666693,\n",
       "       -69.22299395,  75.25641174,  72.64374862,  -2.7834275 ,\n",
       "        25.21373124, -38.4641033 ,  47.73330597,  50.69817299,\n",
       "       -46.77916197, -62.77118515, -13.51112724, -61.84422277,\n",
       "        -7.8160852 ,  17.54811155,  35.41430055, -75.76259415,\n",
       "       -76.86968801, -68.18770837, -47.64299988,  57.55571745,\n",
       "       -44.36735903,  77.17253284, -39.85516086,  75.23387576,\n",
       "       -83.1853849 ,  30.0205235 ,   7.52948262,  38.42639547,\n",
       "       -76.49199921,  -1.14171487])"
      ]
     },
     "execution_count": 25,
     "metadata": {},
     "output_type": "execute_result"
    }
   ],
   "source": [
    "np.random.uniform(-90.000, 90.000, size=50)"
   ]
  },
  {
   "cell_type": "code",
   "execution_count": 26,
   "id": "a17f2ac9",
   "metadata": {},
   "outputs": [],
   "source": [
    "# Import timeit.\n",
    "import timeit"
   ]
  },
  {
   "cell_type": "code",
   "execution_count": 28,
   "id": "8039b89e",
   "metadata": {},
   "outputs": [
    {
     "data": {
      "text/plain": [
       "array([ 86.98684724,  65.60328316,  21.03795025, ..., -27.13846457,\n",
       "       -31.99929024, -80.06393961])"
      ]
     },
     "execution_count": 28,
     "metadata": {},
     "output_type": "execute_result"
    }
   ],
   "source": [
    "%timeit\n",
    "np.random.uniform(-90.000, 90.000, size=1500)"
   ]
  },
  {
   "cell_type": "code",
   "execution_count": 29,
   "id": "90678b51",
   "metadata": {},
   "outputs": [
    {
     "name": "stdout",
     "output_type": "stream",
     "text": [
      "1.33 ms ± 25.7 µs per loop (mean ± std. dev. of 7 runs, 1000 loops each)\n"
     ]
    }
   ],
   "source": [
    "def latitudes(size):\n",
    "    latitudes = []\n",
    "    x = 0\n",
    "    while x < (size):\n",
    "        random_lat = random.randint(-90, 90) + random.random()\n",
    "        latitudes.append(random_lat)\n",
    "        x += 1\n",
    "    return latitudes\n",
    "# Call the function with 1500.\n",
    "%timeit latitudes(1500)"
   ]
  },
  {
   "cell_type": "code",
   "execution_count": null,
   "id": "cb593522",
   "metadata": {},
   "outputs": [],
   "source": []
  }
 ],
 "metadata": {
  "kernelspec": {
   "display_name": "PythonData",
   "language": "python",
   "name": "pythondata"
  },
  "language_info": {
   "codemirror_mode": {
    "name": "ipython",
    "version": 3
   },
   "file_extension": ".py",
   "mimetype": "text/x-python",
   "name": "python",
   "nbconvert_exporter": "python",
   "pygments_lexer": "ipython3",
   "version": "3.9.7"
  }
 },
 "nbformat": 4,
 "nbformat_minor": 5
}
